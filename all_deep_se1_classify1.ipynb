{
  "nbformat": 4,
  "nbformat_minor": 0,
  "metadata": {
    "colab": {
      "name": "all_deep_se1_classify1.ipynb",
      "provenance": [],
      "collapsed_sections": [],
      "authorship_tag": "ABX9TyPGFkk/JPmvSahYCpPyggTz",
      "include_colab_link": true
    },
    "kernelspec": {
      "name": "python3",
      "display_name": "Python 3"
    }
  },
  "cells": [
    {
      "cell_type": "markdown",
      "metadata": {
        "id": "view-in-github",
        "colab_type": "text"
      },
      "source": [
        "<a href=\"https://colab.research.google.com/github/lauree77/all_deep_se1/blob/main/all_deep_se1_classify1.ipynb\" target=\"_parent\"><img src=\"https://colab.research.google.com/assets/colab-badge.svg\" alt=\"Open In Colab\"/></a>"
      ]
    },
    {
      "cell_type": "code",
      "metadata": {
        "id": "29t1raD_GBSB"
      },
      "source": [
        "import tensorflow.compat.v1 as tf\n",
        "tf.disable_v2_behavior()\n",
        "import numpy as np"
      ],
      "execution_count": null,
      "outputs": []
    },
    {
      "cell_type": "code",
      "metadata": {
        "id": "1yYC7X33GF6Z"
      },
      "source": [
        "xy = np.loadtxt(data_path+'data-03-diabetes.csv', delimiter=',', dtype=np.float32)\n",
        "x_data = xy[:, 0:-1]\n",
        "y_data = xy[:, [-1]]\n",
        "\n",
        "X = tf.placeholder(tf.float32, shape=[None, 8])\n",
        "Y= tf.placeholder(tf.float32, shape=[None, 1])\n",
        "\n",
        "W = tf.Variable(tf.random_normal([8, 1]), name='weight')\n",
        "b = tf.Variable(tf.random_normal([1]), name='bias')\n",
        "\n",
        "hypothesis = tf.sigmoid(tf.matmul(X, W)+b)\n",
        "\n",
        "cost = -tf.reduce_mean(Y * tf.log(hypothesis) + (1-Y)* tf.log(1-hypothesis))\n",
        "train = tf.train.GradientDescentOptimizer(learning_rate=0.01).minimize(cost)"
      ],
      "execution_count": null,
      "outputs": []
    },
    {
      "cell_type": "code",
      "metadata": {
        "id": "xwQ2c80wN3ZN"
      },
      "source": [
        "predicted = tf.cast(hypothesis > 0.5, dtype=tf.float32)\n",
        "accuracy = tf.reduce_mean(tf.case(tf.equal(predicted, Y), dtype=tf.float32))\n",
        "\n",
        "with tf.Session() as sess:\n",
        "  sess.run(tf.global_variables_initializer())\n",
        "\n",
        "  feed = {X: x_data, Y: y_data}\n",
        "  for step in range(10001):\n",
        "    sess.run(train, feed_dict=feed)\n",
        "    if step % 200 == 0:\n",
        "      print(step, sess.run(cost, feed_dict=feed))\n",
        "\n",
        "h, c, a = sess.run([hypothesis, predicted, accuracy], feed_dict=feed)\n",
        "print(\"\\nHypothesis: \", h, \"\\nCorrect (Y):\", c, \"\\nAccuracy : \", a)"
      ],
      "execution_count": null,
      "outputs": []
    }
  ]
}